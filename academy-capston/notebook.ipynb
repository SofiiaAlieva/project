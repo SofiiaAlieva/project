{
 "cells": [
  {
   "cell_type": "code",
   "execution_count": 33,
   "metadata": {},
   "outputs": [],
   "source": [
    "from pyspark import SparkConf\n",
    "import pyspark.sql.functions as psf\n",
    "from pyspark.sql import SparkSession\n",
    "from pyspark.sql.dataframe import DataFrame, Column"
   ]
  },
  {
   "cell_type": "code",
   "execution_count": 83,
   "metadata": {},
   "outputs": [],
   "source": [
    "config = {\"spark.jars.packages\":\"org.apache.hadoop:hadoop-aws:3.3.1\", \n",
    "\"spark.hadoop.fs.s3.impl\":\"org.apache.hadoop.fs.s3a.S3AFileSystem\", \n",
    "\"fs.s3a.aws.credentials.provider\":\"com.amazonaws.auth.DefaultAWSCredentialsProviderChain\"}\n",
    "\n",
    "conf = SparkConf().setAll(config.items())\n",
    "spark = SparkSession.builder.config(conf=conf).getOrCreate()"
   ]
  },
  {
   "cell_type": "code",
   "execution_count": 92,
   "metadata": {},
   "outputs": [
    {
     "name": "stderr",
     "output_type": "stream",
     "text": [
      "                                                                                \r"
     ]
    }
   ],
   "source": [
    "df = spark.read.json(\"s3://dataminded-academy-capstone-resources/raw/open_aq/\")"
   ]
  },
  {
   "cell_type": "code",
   "execution_count": 8,
   "metadata": {},
   "outputs": [
    {
     "data": {
      "text/plain": [
       "['city',\n",
       " 'coordinates',\n",
       " 'country',\n",
       " 'date',\n",
       " 'entity',\n",
       " 'isAnalysis',\n",
       " 'isMobile',\n",
       " 'location',\n",
       " 'locationId',\n",
       " 'parameter',\n",
       " 'sensorType',\n",
       " 'unit',\n",
       " 'value']"
      ]
     },
     "execution_count": 8,
     "metadata": {},
     "output_type": "execute_result"
    }
   ],
   "source": [
    "df.columns"
   ]
  },
  {
   "cell_type": "code",
   "execution_count": 14,
   "metadata": {},
   "outputs": [
    {
     "data": {
      "text/plain": [
       "DataFrame[city: string, coordinates: struct<latitude:double,longitude:double>, country: string, date: struct<local:string,utc:string>, entity: string, isAnalysis: boolean, isMobile: boolean, location: string, locationId: bigint, parameter: string, sensorType: string, unit: string, value: double]"
      ]
     },
     "execution_count": 14,
     "metadata": {},
     "output_type": "execute_result"
    }
   ],
   "source": [
    "df\n",
    "# coordinates and date are nested"
   ]
  },
  {
   "cell_type": "code",
   "execution_count": 40,
   "metadata": {},
   "outputs": [
    {
     "name": "stdout",
     "output_type": "stream",
     "text": [
      "+-----------------+\n",
      "|      coordinates|\n",
      "+-----------------+\n",
      "| {50.904, 4.6959}|\n",
      "| {50.904, 4.6959}|\n",
      "| {50.904, 4.6959}|\n",
      "| {50.921, 3.4562}|\n",
      "| {50.921, 3.4562}|\n",
      "| {50.921, 3.4562}|\n",
      "|{50.9815, 3.5463}|\n",
      "|{50.9815, 3.5463}|\n",
      "|{50.9815, 3.5463}|\n",
      "|{50.8864, 4.7003}|\n",
      "|{50.8864, 4.7003}|\n",
      "|{50.8864, 4.7003}|\n",
      "|{51.2252, 3.7902}|\n",
      "|{51.2252, 3.7902}|\n",
      "|{51.2252, 3.7902}|\n",
      "| {51.071, 4.7037}|\n",
      "| {51.071, 4.7037}|\n",
      "| {51.071, 4.7037}|\n",
      "| {50.904, 4.6959}|\n",
      "| {50.904, 4.6959}|\n",
      "+-----------------+\n",
      "only showing top 20 rows\n",
      "\n"
     ]
    },
    {
     "data": {
      "text/plain": [
       "pyspark.sql.dataframe.DataFrame"
      ]
     },
     "execution_count": 40,
     "metadata": {},
     "output_type": "execute_result"
    }
   ],
   "source": [
    "df.select(\"coordinates\").show()\n",
    "\n",
    "type(df.select(\"coordinates\"))\n",
    "\n",
    "# for element in df.select(\"coordinates\"):\n",
    "#     print(type(element))"
   ]
  },
  {
   "cell_type": "code",
   "execution_count": 93,
   "metadata": {},
   "outputs": [],
   "source": [
    "df = (\n",
    "    df.withColumn(colName=\"coordinates_latitude\", col=df[\"coordinates\"].getField(\"latitude\"))\n",
    "    .withColumn(colName=\"coordinates_longitude\", col=df[\"coordinates\"].getField(\"longitude\"))\n",
    "    .drop(\"coordinates\")\n",
    "    .withColumn(colName=\"date_local\", col=df[\"date\"].getField(\"local\"))\n",
    "    .withColumn(colName=\"date_utc\", col=df[\"date.utc\"])\n",
    "    .drop(\"date\")\n",
    ")"
   ]
  },
  {
   "cell_type": "code",
   "execution_count": 94,
   "metadata": {},
   "outputs": [
    {
     "name": "stdout",
     "output_type": "stream",
     "text": [
      "root\n",
      " |-- city: string (nullable = true)\n",
      " |-- country: string (nullable = true)\n",
      " |-- entity: string (nullable = true)\n",
      " |-- isAnalysis: boolean (nullable = true)\n",
      " |-- isMobile: boolean (nullable = true)\n",
      " |-- location: string (nullable = true)\n",
      " |-- locationId: long (nullable = true)\n",
      " |-- parameter: string (nullable = true)\n",
      " |-- sensorType: string (nullable = true)\n",
      " |-- unit: string (nullable = true)\n",
      " |-- value: double (nullable = true)\n",
      " |-- coordinates_latitude: double (nullable = true)\n",
      " |-- coordinates_longitude: double (nullable = true)\n",
      " |-- date_local: string (nullable = true)\n",
      " |-- date_utc: string (nullable = true)\n",
      "\n"
     ]
    }
   ],
   "source": [
    "df.printSchema()"
   ]
  },
  {
   "cell_type": "code",
   "execution_count": 111,
   "metadata": {},
   "outputs": [
    {
     "name": "stdout",
     "output_type": "stream",
     "text": [
      "+----+-------+---------+----------+--------+--------------------+----------+---------+---------------+-----+-----+--------------------+---------------------+--------------------+--------------------+\n",
      "|city|country|   entity|isAnalysis|isMobile|            location|locationId|parameter|     sensorType| unit|value|coordinates_latitude|coordinates_longitude|          date_local|            date_utc|\n",
      "+----+-------+---------+----------+--------+--------------------+----------+---------+---------------+-----+-----+--------------------+---------------------+--------------------+--------------------+\n",
      "|null|     BE|community|     false|   false|      Wilsele-Herent|     66110|      pm1|low-cost sensor|µg/m³|  1.7|              50.904|               4.6959|2021-02-02T22:59:...|2021-02-02T23:59:...|\n",
      "|null|     BE|community|     false|   false|      Wilsele-Herent|     66110|     pm25|low-cost sensor|µg/m³|  4.1|              50.904|               4.6959|2021-02-02T22:59:...|2021-02-02T23:59:...|\n",
      "|null|     BE|community|     false|   false|      Wilsele-Herent|     66110|     pm10|low-cost sensor|µg/m³|  5.9|              50.904|               4.6959|2021-02-02T22:59:...|2021-02-02T23:59:...|\n",
      "|null|     BE|community|     false|   false|               Zulte|     70441|     pm25|low-cost sensor|µg/m³|  5.8|              50.921|               3.4562|2021-02-02T22:59:...|2021-02-02T23:59:...|\n",
      "|null|     BE|community|     false|   false|               Zulte|     70441|      pm1|low-cost sensor|µg/m³|  2.7|              50.921|               3.4562|2021-02-02T22:59:...|2021-02-02T23:59:...|\n",
      "|null|     BE|community|     false|   false|               Zulte|     70441|     pm10|low-cost sensor|µg/m³|  8.1|              50.921|               3.4562|2021-02-02T22:59:...|2021-02-02T23:59:...|\n",
      "|null|     BE|community|     false|   false|                 N43|     65895|      pm1|low-cost sensor|µg/m³|  1.9|             50.9815|               3.5463|2021-02-02T22:59:...|2021-02-02T23:59:...|\n",
      "|null|     BE|community|     false|   false|                 N43|     65895|     pm25|low-cost sensor|µg/m³|  4.7|             50.9815|               3.5463|2021-02-02T22:59:...|2021-02-02T23:59:...|\n",
      "|null|     BE|community|     false|   false|                 N43|     65895|     pm10|low-cost sensor|µg/m³|  5.9|             50.9815|               3.5463|2021-02-02T22:59:...|2021-02-02T23:59:...|\n",
      "|null|     BE|community|     false|   false|    Sluispark Leuven|     63272|      pm1|low-cost sensor|µg/m³|  1.4|             50.8864|               4.7003|2021-02-02T22:58:...|2021-02-02T23:58:...|\n",
      "|null|     BE|community|     false|   false|    Sluispark Leuven|     63272|     pm10|low-cost sensor|µg/m³|  3.7|             50.8864|               4.7003|2021-02-02T22:58:...|2021-02-02T23:58:...|\n",
      "|null|     BE|community|     false|   false|    Sluispark Leuven|     63272|     pm25|low-cost sensor|µg/m³|  2.6|             50.8864|               4.7003|2021-02-02T22:58:...|2021-02-02T23:58:...|\n",
      "|null|     BE|community|     false|   false|Sas van Gent, Zee...|     68532|     pm25|low-cost sensor|µg/m³|  5.7|             51.2252|               3.7902|2021-02-02T22:58:...|2021-02-02T23:58:...|\n",
      "|null|     BE|community|     false|   false|Sas van Gent, Zee...|     68532|     pm10|low-cost sensor|µg/m³|  7.8|             51.2252|               3.7902|2021-02-02T22:58:...|2021-02-02T23:58:...|\n",
      "|null|     BE|community|     false|   false|Sas van Gent, Zee...|     68532|      pm1|low-cost sensor|µg/m³|  2.4|             51.2252|               3.7902|2021-02-02T22:58:...|2021-02-02T23:58:...|\n",
      "|null|     BE|community|     false|   false|   Heist-op-den-Berg|     72334|      pm1|low-cost sensor|µg/m³|  2.6|              51.071|               4.7037|2021-02-02T22:58:...|2021-02-02T23:58:...|\n",
      "|null|     BE|community|     false|   false|   Heist-op-den-Berg|     72334|     pm10|low-cost sensor|µg/m³| 10.1|              51.071|               4.7037|2021-02-02T22:58:...|2021-02-02T23:58:...|\n",
      "|null|     BE|community|     false|   false|   Heist-op-den-Berg|     72334|     pm25|low-cost sensor|µg/m³|  6.6|              51.071|               4.7037|2021-02-02T22:58:...|2021-02-02T23:58:...|\n",
      "|null|     BE|community|     false|   false|      Wilsele-Herent|     66110|      pm1|low-cost sensor|µg/m³|  1.8|              50.904|               4.6959|2021-02-02T22:57:...|2021-02-02T23:57:...|\n",
      "|null|     BE|community|     false|   false|      Wilsele-Herent|     66110|     pm10|low-cost sensor|µg/m³|  6.8|              50.904|               4.6959|2021-02-02T22:57:...|2021-02-02T23:57:...|\n",
      "+----+-------+---------+----------+--------+--------------------+----------+---------+---------------+-----+-----+--------------------+---------------------+--------------------+--------------------+\n",
      "only showing top 20 rows\n",
      "\n"
     ]
    }
   ],
   "source": [
    "# psf.to_utc_timestamp()"
   ]
  },
  {
   "cell_type": "code",
   "execution_count": 121,
   "metadata": {},
   "outputs": [
    {
     "name": "stdout",
     "output_type": "stream",
     "text": [
      "root\n",
      " |-- city: string (nullable = true)\n",
      " |-- country: string (nullable = true)\n",
      " |-- entity: string (nullable = true)\n",
      " |-- isAnalysis: boolean (nullable = true)\n",
      " |-- isMobile: boolean (nullable = true)\n",
      " |-- location: string (nullable = true)\n",
      " |-- locationId: long (nullable = true)\n",
      " |-- parameter: string (nullable = true)\n",
      " |-- sensorType: string (nullable = true)\n",
      " |-- unit: string (nullable = true)\n",
      " |-- value: double (nullable = true)\n",
      " |-- coordinates_latitude: double (nullable = true)\n",
      " |-- coordinates_longitude: double (nullable = true)\n",
      " |-- date_local: string (nullable = true)\n",
      " |-- date_utc: string (nullable = true)\n",
      " |-- UTC: string (nullable = true)\n",
      "\n"
     ]
    }
   ],
   "source": [
    "utc_df = df.withColumn(colName=\"UTC\", col=df[\"date_utc\"])\n",
    "# 2021-02-02T23:59:\n",
    "\n",
    "psf.to_utc_timestamp(utc_df.UTC, tz=None)\n",
    "utc_df.printSchema()"
   ]
  },
  {
   "cell_type": "code",
   "execution_count": null,
   "metadata": {},
   "outputs": [],
   "source": []
  }
 ],
 "metadata": {
  "kernelspec": {
   "display_name": "Python 3",
   "language": "python",
   "name": "python3"
  },
  "language_info": {
   "codemirror_mode": {
    "name": "ipython",
    "version": 3
   },
   "file_extension": ".py",
   "mimetype": "text/x-python",
   "name": "python",
   "nbconvert_exporter": "python",
   "pygments_lexer": "ipython3",
   "version": "3.8.16 (default, Jan 10 2023, 15:23:34) \n[GCC 9.4.0]"
  },
  "orig_nbformat": 4,
  "vscode": {
   "interpreter": {
    "hash": "9ac03a0a6051494cc606d484d27d20fce22fb7b4d169f583271e11d5ba46a56e"
   }
  }
 },
 "nbformat": 4,
 "nbformat_minor": 2
}
